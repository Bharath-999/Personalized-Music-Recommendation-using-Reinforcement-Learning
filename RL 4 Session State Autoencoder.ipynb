{
 "cells": [
  {
   "cell_type": "markdown",
   "id": "54631536",
   "metadata": {},
   "source": [
    "### Session State encoder using LSTM Autoencoder\n",
    "We used LSTM netural network to create an autoencoder that will reduce the dimension of session which contains last 5 played songs features and action between those songs (5x9 matrix) to a smaller vector of 1x9."
   ]
  },
  {
   "cell_type": "code",
   "execution_count": 1,
   "id": "352eec5f",
   "metadata": {},
   "outputs": [],
   "source": [
    "import glob\n",
    "import pandas as pd\n",
    "import numpy as np\n",
    "from tqdm import tqdm\n",
    "from tensorflow.keras.layers import LSTM, Input, Dense, RepeatVector, TimeDistributed\n",
    "from tensorflow.keras.models import Model\n",
    "import matplotlib.pyplot as plt\n",
    "%matplotlib inline"
   ]
  },
  {
   "cell_type": "code",
   "execution_count": 2,
   "id": "36dadff1",
   "metadata": {},
   "outputs": [
    {
     "data": {
      "text/html": [
       "<div>\n",
       "<style scoped>\n",
       "    .dataframe tbody tr th:only-of-type {\n",
       "        vertical-align: middle;\n",
       "    }\n",
       "\n",
       "    .dataframe tbody tr th {\n",
       "        vertical-align: top;\n",
       "    }\n",
       "\n",
       "    .dataframe thead th {\n",
       "        text-align: right;\n",
       "    }\n",
       "</style>\n",
       "<table border=\"1\" class=\"dataframe\">\n",
       "  <thead>\n",
       "    <tr style=\"text-align: right;\">\n",
       "      <th></th>\n",
       "      <th>track_id</th>\n",
       "      <th>0</th>\n",
       "      <th>1</th>\n",
       "      <th>2</th>\n",
       "      <th>3</th>\n",
       "      <th>4</th>\n",
       "      <th>5</th>\n",
       "      <th>6</th>\n",
       "      <th>7</th>\n",
       "    </tr>\n",
       "  </thead>\n",
       "  <tbody>\n",
       "    <tr>\n",
       "      <th>0</th>\n",
       "      <td>t_3c2c29b5-c738-42c0-83e1-ee0e88ac834d</td>\n",
       "      <td>0.143063</td>\n",
       "      <td>0.024294</td>\n",
       "      <td>0.004624</td>\n",
       "      <td>-0.091005</td>\n",
       "      <td>0.067549</td>\n",
       "      <td>-0.291867</td>\n",
       "      <td>-0.285134</td>\n",
       "      <td>-0.150432</td>\n",
       "    </tr>\n",
       "    <tr>\n",
       "      <th>1</th>\n",
       "      <td>t_f48322ca-044e-4069-a797-4fedbbbbb522</td>\n",
       "      <td>-0.053658</td>\n",
       "      <td>-0.043300</td>\n",
       "      <td>0.071140</td>\n",
       "      <td>-0.061014</td>\n",
       "      <td>-0.044522</td>\n",
       "      <td>-0.037636</td>\n",
       "      <td>0.181544</td>\n",
       "      <td>0.003603</td>\n",
       "    </tr>\n",
       "    <tr>\n",
       "      <th>2</th>\n",
       "      <td>t_5487f622-5641-43da-b263-d8954845d163</td>\n",
       "      <td>0.030984</td>\n",
       "      <td>0.090996</td>\n",
       "      <td>-0.081795</td>\n",
       "      <td>-0.066444</td>\n",
       "      <td>0.240973</td>\n",
       "      <td>-0.241382</td>\n",
       "      <td>-0.244575</td>\n",
       "      <td>-0.090051</td>\n",
       "    </tr>\n",
       "    <tr>\n",
       "      <th>3</th>\n",
       "      <td>t_5f395f25-5236-4cbd-a41d-74b65e253df7</td>\n",
       "      <td>0.219336</td>\n",
       "      <td>0.094216</td>\n",
       "      <td>0.024554</td>\n",
       "      <td>-0.129817</td>\n",
       "      <td>0.134058</td>\n",
       "      <td>-0.223478</td>\n",
       "      <td>-0.103355</td>\n",
       "      <td>0.034922</td>\n",
       "    </tr>\n",
       "    <tr>\n",
       "      <th>4</th>\n",
       "      <td>t_081b193b-03bd-4c30-9255-b127ed5d2ad5</td>\n",
       "      <td>-0.068865</td>\n",
       "      <td>-0.148980</td>\n",
       "      <td>0.055289</td>\n",
       "      <td>-0.048050</td>\n",
       "      <td>-0.025559</td>\n",
       "      <td>-0.199426</td>\n",
       "      <td>-0.077340</td>\n",
       "      <td>-0.000362</td>\n",
       "    </tr>\n",
       "  </tbody>\n",
       "</table>\n",
       "</div>"
      ],
      "text/plain": [
       "                                 track_id         0         1         2  \\\n",
       "0  t_3c2c29b5-c738-42c0-83e1-ee0e88ac834d  0.143063  0.024294  0.004624   \n",
       "1  t_f48322ca-044e-4069-a797-4fedbbbbb522 -0.053658 -0.043300  0.071140   \n",
       "2  t_5487f622-5641-43da-b263-d8954845d163  0.030984  0.090996 -0.081795   \n",
       "3  t_5f395f25-5236-4cbd-a41d-74b65e253df7  0.219336  0.094216  0.024554   \n",
       "4  t_081b193b-03bd-4c30-9255-b127ed5d2ad5 -0.068865 -0.148980  0.055289   \n",
       "\n",
       "          3         4         5         6         7  \n",
       "0 -0.091005  0.067549 -0.291867 -0.285134 -0.150432  \n",
       "1 -0.061014 -0.044522 -0.037636  0.181544  0.003603  \n",
       "2 -0.066444  0.240973 -0.241382 -0.244575 -0.090051  \n",
       "3 -0.129817  0.134058 -0.223478 -0.103355  0.034922  \n",
       "4 -0.048050 -0.025559 -0.199426 -0.077340 -0.000362  "
      ]
     },
     "execution_count": 2,
     "metadata": {},
     "output_type": "execute_result"
    }
   ],
   "source": [
    "latent_track_features_df = pd.read_csv(\"D:\\Recommendation RL\\Code\\Data\\latent_track_features.csv\");\n",
    "latent_track_features_df.head()"
   ]
  },
  {
   "cell_type": "code",
   "execution_count": 3,
   "id": "e1b2284e",
   "metadata": {},
   "outputs": [],
   "source": [
    "latent_track_features_dict = latent_track_features_df.set_index('track_id').T.to_dict('list')"
   ]
  },
  {
   "cell_type": "code",
   "execution_count": 4,
   "id": "2050cfa1",
   "metadata": {},
   "outputs": [
    {
     "data": {
      "text/html": [
       "<div>\n",
       "<style scoped>\n",
       "    .dataframe tbody tr th:only-of-type {\n",
       "        vertical-align: middle;\n",
       "    }\n",
       "\n",
       "    .dataframe tbody tr th {\n",
       "        vertical-align: top;\n",
       "    }\n",
       "\n",
       "    .dataframe thead th {\n",
       "        text-align: right;\n",
       "    }\n",
       "</style>\n",
       "<table border=\"1\" class=\"dataframe\">\n",
       "  <thead>\n",
       "    <tr style=\"text-align: right;\">\n",
       "      <th></th>\n",
       "      <th>session_id</th>\n",
       "      <th>0</th>\n",
       "      <th>1</th>\n",
       "      <th>2</th>\n",
       "      <th>3</th>\n",
       "      <th>4</th>\n",
       "      <th>5</th>\n",
       "      <th>6</th>\n",
       "      <th>7</th>\n",
       "      <th>8</th>\n",
       "      <th>...</th>\n",
       "      <th>30</th>\n",
       "      <th>31</th>\n",
       "      <th>32</th>\n",
       "      <th>33</th>\n",
       "      <th>34</th>\n",
       "      <th>35</th>\n",
       "      <th>36</th>\n",
       "      <th>37</th>\n",
       "      <th>38</th>\n",
       "      <th>39</th>\n",
       "    </tr>\n",
       "  </thead>\n",
       "  <tbody>\n",
       "    <tr>\n",
       "      <th>0</th>\n",
       "      <td>0_00602661-ec08-47d0-b23b-dcd249f45ecc</td>\n",
       "      <td>t_30cb664a-f513-4c4b-918f-5b383a261e12</td>\n",
       "      <td>0</td>\n",
       "      <td>t_e11adb6d-a49f-4614-bf2c-533705bcc29e</td>\n",
       "      <td>0</td>\n",
       "      <td>t_eeac9c96-f4f7-4618-a4b8-092250d6402e</td>\n",
       "      <td>1</td>\n",
       "      <td>t_5c5df2c3-8ce3-42ed-817f-440791f76368</td>\n",
       "      <td>0</td>\n",
       "      <td>t_b3fdb711-268c-472e-a856-3ba616ed0475</td>\n",
       "      <td>...</td>\n",
       "      <td>t_95f71f29-79bb-413b-91d5-78582cb0774c</td>\n",
       "      <td>0</td>\n",
       "      <td>t_b1bedaf2-a919-4f67-b340-15e383ed14e6</td>\n",
       "      <td>0</td>\n",
       "      <td>t_f6775101-da76-43d3-b54e-4a1704c5bfef</td>\n",
       "      <td>0</td>\n",
       "      <td>t_ac1f897f-25c7-4e0e-91b5-1030649dda4b</td>\n",
       "      <td>0</td>\n",
       "      <td>t_f6775101-da76-43d3-b54e-4a1704c5bfef</td>\n",
       "      <td>1</td>\n",
       "    </tr>\n",
       "    <tr>\n",
       "      <th>1</th>\n",
       "      <td>0_00646e66-c627-4e8c-b4a5-f68a30b623a0</td>\n",
       "      <td>t_b905c13c-670f-4ae1-a139-84b981045794</td>\n",
       "      <td>0</td>\n",
       "      <td>t_ffc37789-d3ce-4aa6-8e89-067ab0f18b21</td>\n",
       "      <td>0</td>\n",
       "      <td>t_b193cd79-b6cb-4514-8c5b-ead28ac8dd30</td>\n",
       "      <td>0</td>\n",
       "      <td>t_575964e1-d488-4929-9efe-e63ee8586d12</td>\n",
       "      <td>0</td>\n",
       "      <td>t_0ef6d2c8-faf9-4ebe-ac75-2bade8696a3d</td>\n",
       "      <td>...</td>\n",
       "      <td>t_9aef055a-151c-466d-a082-d2826d80ad5c</td>\n",
       "      <td>0</td>\n",
       "      <td>t_71bee55a-863c-41c8-864f-171b40c663d6</td>\n",
       "      <td>0</td>\n",
       "      <td>t_ee116f41-06dc-4f2a-87dc-494235de540e</td>\n",
       "      <td>0</td>\n",
       "      <td>t_244d8a7e-a290-424d-9b2e-05b06426914d</td>\n",
       "      <td>0</td>\n",
       "      <td>t_867d4494-ed16-4d5e-8415-3e2dc60827fc</td>\n",
       "      <td>0</td>\n",
       "    </tr>\n",
       "    <tr>\n",
       "      <th>2</th>\n",
       "      <td>0_006d0464-5910-4c4e-b8bf-98db3cd80a9a</td>\n",
       "      <td>t_a2c86617-1149-4a9c-bb0d-d304cd3ef077</td>\n",
       "      <td>0</td>\n",
       "      <td>t_58b65d28-3a54-467e-bf44-511aa89f44d4</td>\n",
       "      <td>0</td>\n",
       "      <td>t_d777aa56-bd42-4df5-ab7b-403526ed1862</td>\n",
       "      <td>1</td>\n",
       "      <td>t_4a6b1494-508d-48eb-a002-c1fad94b1bd8</td>\n",
       "      <td>1</td>\n",
       "      <td>t_77b02acb-1b1f-4b36-b8fc-2c3e01892b9a</td>\n",
       "      <td>...</td>\n",
       "      <td>t_24a69429-5fd7-41aa-a72d-ece8bd618b45</td>\n",
       "      <td>0</td>\n",
       "      <td>t_416f532e-1cb9-4271-a21c-bb5c78e492e9</td>\n",
       "      <td>1</td>\n",
       "      <td>t_7874301a-f2ba-4cc3-a38b-6efddaa89a2d</td>\n",
       "      <td>0</td>\n",
       "      <td>t_00c3f668-2283-447c-94c0-965c5c409f84</td>\n",
       "      <td>0</td>\n",
       "      <td>t_00c3f668-2283-447c-94c0-965c5c409f84</td>\n",
       "      <td>0</td>\n",
       "    </tr>\n",
       "    <tr>\n",
       "      <th>3</th>\n",
       "      <td>0_0096cd3a-dc9f-4a6e-aa50-93ed24e17be5</td>\n",
       "      <td>t_ea20035c-6a01-4e09-8c18-2d1e5fff9a61</td>\n",
       "      <td>1</td>\n",
       "      <td>t_02111b05-f8fd-477c-abb4-4bf2e2ed29dc</td>\n",
       "      <td>0</td>\n",
       "      <td>t_ea20035c-6a01-4e09-8c18-2d1e5fff9a61</td>\n",
       "      <td>0</td>\n",
       "      <td>t_279e04f8-5a85-4a83-9831-16d673673456</td>\n",
       "      <td>0</td>\n",
       "      <td>t_ea20035c-6a01-4e09-8c18-2d1e5fff9a61</td>\n",
       "      <td>...</td>\n",
       "      <td>t_0c09bf72-5cac-44d7-9050-dc4ae4ca3a04</td>\n",
       "      <td>0</td>\n",
       "      <td>t_900f7a9e-e082-4378-8705-ecce236cddf6</td>\n",
       "      <td>0</td>\n",
       "      <td>t_0c09bf72-5cac-44d7-9050-dc4ae4ca3a04</td>\n",
       "      <td>1</td>\n",
       "      <td>t_900f7a9e-e082-4378-8705-ecce236cddf6</td>\n",
       "      <td>0</td>\n",
       "      <td>t_0f554e14-572e-4538-a3e9-65c5fee7e580</td>\n",
       "      <td>0</td>\n",
       "    </tr>\n",
       "    <tr>\n",
       "      <th>4</th>\n",
       "      <td>0_0101fd8a-ff18-4435-a6f2-c2d2ce608aef</td>\n",
       "      <td>t_938cfd98-d6cf-48cc-a14a-f1426addbf34</td>\n",
       "      <td>0</td>\n",
       "      <td>t_4755ddd1-f2a1-4dfa-bbd4-59dc15de6bbe</td>\n",
       "      <td>0</td>\n",
       "      <td>t_4755ddd1-f2a1-4dfa-bbd4-59dc15de6bbe</td>\n",
       "      <td>1</td>\n",
       "      <td>t_4755ddd1-f2a1-4dfa-bbd4-59dc15de6bbe</td>\n",
       "      <td>1</td>\n",
       "      <td>t_4755ddd1-f2a1-4dfa-bbd4-59dc15de6bbe</td>\n",
       "      <td>...</td>\n",
       "      <td>t_5ee34da6-b6d3-4487-a03e-55b46ec25633</td>\n",
       "      <td>0</td>\n",
       "      <td>t_abcaac58-2a68-4e29-9da1-d50bed637bce</td>\n",
       "      <td>0</td>\n",
       "      <td>t_68897b2f-13fa-43ce-a1d8-1ffb6437a07e</td>\n",
       "      <td>0</td>\n",
       "      <td>t_8f9f2397-334b-48ee-9120-96d9ddf32f92</td>\n",
       "      <td>1</td>\n",
       "      <td>t_4403dd71-7265-4981-a1b9-fca58fa2679b</td>\n",
       "      <td>1</td>\n",
       "    </tr>\n",
       "  </tbody>\n",
       "</table>\n",
       "<p>5 rows × 41 columns</p>\n",
       "</div>"
      ],
      "text/plain": [
       "                               session_id  \\\n",
       "0  0_00602661-ec08-47d0-b23b-dcd249f45ecc   \n",
       "1  0_00646e66-c627-4e8c-b4a5-f68a30b623a0   \n",
       "2  0_006d0464-5910-4c4e-b8bf-98db3cd80a9a   \n",
       "3  0_0096cd3a-dc9f-4a6e-aa50-93ed24e17be5   \n",
       "4  0_0101fd8a-ff18-4435-a6f2-c2d2ce608aef   \n",
       "\n",
       "                                        0  1  \\\n",
       "0  t_30cb664a-f513-4c4b-918f-5b383a261e12  0   \n",
       "1  t_b905c13c-670f-4ae1-a139-84b981045794  0   \n",
       "2  t_a2c86617-1149-4a9c-bb0d-d304cd3ef077  0   \n",
       "3  t_ea20035c-6a01-4e09-8c18-2d1e5fff9a61  1   \n",
       "4  t_938cfd98-d6cf-48cc-a14a-f1426addbf34  0   \n",
       "\n",
       "                                        2  3  \\\n",
       "0  t_e11adb6d-a49f-4614-bf2c-533705bcc29e  0   \n",
       "1  t_ffc37789-d3ce-4aa6-8e89-067ab0f18b21  0   \n",
       "2  t_58b65d28-3a54-467e-bf44-511aa89f44d4  0   \n",
       "3  t_02111b05-f8fd-477c-abb4-4bf2e2ed29dc  0   \n",
       "4  t_4755ddd1-f2a1-4dfa-bbd4-59dc15de6bbe  0   \n",
       "\n",
       "                                        4  5  \\\n",
       "0  t_eeac9c96-f4f7-4618-a4b8-092250d6402e  1   \n",
       "1  t_b193cd79-b6cb-4514-8c5b-ead28ac8dd30  0   \n",
       "2  t_d777aa56-bd42-4df5-ab7b-403526ed1862  1   \n",
       "3  t_ea20035c-6a01-4e09-8c18-2d1e5fff9a61  0   \n",
       "4  t_4755ddd1-f2a1-4dfa-bbd4-59dc15de6bbe  1   \n",
       "\n",
       "                                        6  7  \\\n",
       "0  t_5c5df2c3-8ce3-42ed-817f-440791f76368  0   \n",
       "1  t_575964e1-d488-4929-9efe-e63ee8586d12  0   \n",
       "2  t_4a6b1494-508d-48eb-a002-c1fad94b1bd8  1   \n",
       "3  t_279e04f8-5a85-4a83-9831-16d673673456  0   \n",
       "4  t_4755ddd1-f2a1-4dfa-bbd4-59dc15de6bbe  1   \n",
       "\n",
       "                                        8  ...  \\\n",
       "0  t_b3fdb711-268c-472e-a856-3ba616ed0475  ...   \n",
       "1  t_0ef6d2c8-faf9-4ebe-ac75-2bade8696a3d  ...   \n",
       "2  t_77b02acb-1b1f-4b36-b8fc-2c3e01892b9a  ...   \n",
       "3  t_ea20035c-6a01-4e09-8c18-2d1e5fff9a61  ...   \n",
       "4  t_4755ddd1-f2a1-4dfa-bbd4-59dc15de6bbe  ...   \n",
       "\n",
       "                                       30 31  \\\n",
       "0  t_95f71f29-79bb-413b-91d5-78582cb0774c  0   \n",
       "1  t_9aef055a-151c-466d-a082-d2826d80ad5c  0   \n",
       "2  t_24a69429-5fd7-41aa-a72d-ece8bd618b45  0   \n",
       "3  t_0c09bf72-5cac-44d7-9050-dc4ae4ca3a04  0   \n",
       "4  t_5ee34da6-b6d3-4487-a03e-55b46ec25633  0   \n",
       "\n",
       "                                       32 33  \\\n",
       "0  t_b1bedaf2-a919-4f67-b340-15e383ed14e6  0   \n",
       "1  t_71bee55a-863c-41c8-864f-171b40c663d6  0   \n",
       "2  t_416f532e-1cb9-4271-a21c-bb5c78e492e9  1   \n",
       "3  t_900f7a9e-e082-4378-8705-ecce236cddf6  0   \n",
       "4  t_abcaac58-2a68-4e29-9da1-d50bed637bce  0   \n",
       "\n",
       "                                       34 35  \\\n",
       "0  t_f6775101-da76-43d3-b54e-4a1704c5bfef  0   \n",
       "1  t_ee116f41-06dc-4f2a-87dc-494235de540e  0   \n",
       "2  t_7874301a-f2ba-4cc3-a38b-6efddaa89a2d  0   \n",
       "3  t_0c09bf72-5cac-44d7-9050-dc4ae4ca3a04  1   \n",
       "4  t_68897b2f-13fa-43ce-a1d8-1ffb6437a07e  0   \n",
       "\n",
       "                                       36 37  \\\n",
       "0  t_ac1f897f-25c7-4e0e-91b5-1030649dda4b  0   \n",
       "1  t_244d8a7e-a290-424d-9b2e-05b06426914d  0   \n",
       "2  t_00c3f668-2283-447c-94c0-965c5c409f84  0   \n",
       "3  t_900f7a9e-e082-4378-8705-ecce236cddf6  0   \n",
       "4  t_8f9f2397-334b-48ee-9120-96d9ddf32f92  1   \n",
       "\n",
       "                                       38 39  \n",
       "0  t_f6775101-da76-43d3-b54e-4a1704c5bfef  1  \n",
       "1  t_867d4494-ed16-4d5e-8415-3e2dc60827fc  0  \n",
       "2  t_00c3f668-2283-447c-94c0-965c5c409f84  0  \n",
       "3  t_0f554e14-572e-4538-a3e9-65c5fee7e580  0  \n",
       "4  t_4403dd71-7265-4981-a1b9-fca58fa2679b  1  \n",
       "\n",
       "[5 rows x 41 columns]"
      ]
     },
     "execution_count": 4,
     "metadata": {},
     "output_type": "execute_result"
    }
   ],
   "source": [
    "session_df = pd.read_csv(\"D:\\Recommendation RL\\Code\\Data\\session_track_reward_data.csv\");\n",
    "session_df.head()"
   ]
  },
  {
   "cell_type": "code",
   "execution_count": 5,
   "id": "3e8a1da5",
   "metadata": {},
   "outputs": [],
   "source": [
    "session_dict = session_df.set_index('session_id').T.to_dict('list')"
   ]
  },
  {
   "cell_type": "markdown",
   "id": "78784575",
   "metadata": {},
   "source": [
    "Below function creates a matrix representation of a state in a session. A state holds the information of last 5 songs played along with the action between songs. So, this function takes input as last 5 songs and actions, and return a 5x9 matrix that represents that state."
   ]
  },
  {
   "cell_type": "code",
   "execution_count": 6,
   "id": "53d5219e",
   "metadata": {},
   "outputs": [],
   "source": [
    "def construct_state(track_and_reward_list):\n",
    "    state_matrix = []\n",
    "    for i in range(5):\n",
    "        latent_track = latent_track_features_dict[track_and_reward_list[2*i]].copy()\n",
    "        latent_track.append(track_and_reward_list[2*i + 1])\n",
    "        state_matrix.append(latent_track)\n",
    "    np_state_matrix = np.array(state_matrix)\n",
    "    return np_state_matrix"
   ]
  },
  {
   "cell_type": "code",
   "execution_count": 7,
   "id": "4a376072",
   "metadata": {},
   "outputs": [],
   "source": [
    "state_list = []\n",
    "for session_id in session_dict:\n",
    "    track_and_reward_list = session_dict[session_id]\n",
    "    for i in range(15):\n",
    "        state = construct_state(track_and_reward_list[2*i:2*i + 10])\n",
    "        state_list.append(state)"
   ]
  },
  {
   "cell_type": "code",
   "execution_count": 8,
   "id": "acf7dfaf",
   "metadata": {},
   "outputs": [
    {
     "data": {
      "text/plain": [
       "149490"
      ]
     },
     "execution_count": 8,
     "metadata": {},
     "output_type": "execute_result"
    }
   ],
   "source": [
    "len(state_list)"
   ]
  },
  {
   "cell_type": "code",
   "execution_count": 9,
   "id": "186ca76f",
   "metadata": {},
   "outputs": [
    {
     "data": {
      "text/plain": [
       "9966"
      ]
     },
     "execution_count": 9,
     "metadata": {},
     "output_type": "execute_result"
    }
   ],
   "source": [
    "len(session_dict)"
   ]
  },
  {
   "cell_type": "markdown",
   "id": "f69aec37",
   "metadata": {},
   "source": [
    "### LSTM Autoencoder\n",
    "We used LSTM autoencoder because the data is sequential.\n",
    "\n",
    "from keras.models import Sequential from keras.layers import LSTM from keras.layers import Dense from keras.layers import RepeatVector from keras.layers import TimeDistributed"
   ]
  },
  {
   "cell_type": "code",
   "execution_count": 10,
   "id": "c8aa6000",
   "metadata": {},
   "outputs": [
    {
     "name": "stdout",
     "output_type": "stream",
     "text": [
      "(149490, 5, 9)\n"
     ]
    }
   ],
   "source": [
    "np_state_list = np.array(state_list)\n",
    "print(np_state_list.shape)"
   ]
  },
  {
   "cell_type": "code",
   "execution_count": 11,
   "id": "d826dd07",
   "metadata": {},
   "outputs": [],
   "source": [
    "timesteps = np_state_list.shape[1]\n",
    "n_features = np_state_list.shape[2]"
   ]
  },
  {
   "cell_type": "code",
   "execution_count": 12,
   "id": "55eb28f4",
   "metadata": {},
   "outputs": [
    {
     "name": "stdout",
     "output_type": "stream",
     "text": [
      "Model: \"sequential\"\n",
      "_________________________________________________________________\n",
      "Layer (type)                 Output Shape              Param #   \n",
      "=================================================================\n",
      "lstm (LSTM)                  (None, 5, 32)             5376      \n",
      "_________________________________________________________________\n",
      "lstm_1 (LSTM)                (None, 16)                3136      \n",
      "_________________________________________________________________\n",
      "repeat_vector (RepeatVector) (None, 5, 16)             0         \n",
      "_________________________________________________________________\n",
      "lstm_2 (LSTM)                (None, 5, 16)             2112      \n",
      "_________________________________________________________________\n",
      "lstm_3 (LSTM)                (None, 5, 32)             6272      \n",
      "_________________________________________________________________\n",
      "time_distributed (TimeDistri (None, 5, 9)              297       \n",
      "=================================================================\n",
      "Total params: 17,193\n",
      "Trainable params: 17,193\n",
      "Non-trainable params: 0\n",
      "_________________________________________________________________\n"
     ]
    }
   ],
   "source": [
    "# LSTM Auto-Encoder\n",
    "model = tf.keras.Sequential()\n",
    "model.add(LSTM(32, activation='tanh', input_shape=(timesteps, n_features), return_sequences=True))\n",
    "model.add(LSTM(16, activation='tanh', return_sequences=False))\n",
    "model.add(RepeatVector(timesteps))\n",
    "model.add(LSTM(16, activation='tanh', return_sequences=True))\n",
    "model.add(LSTM(32, activation='tanh', return_sequences=True))\n",
    "model.add(TimeDistributed(Dense(n_features)))\n",
    "model.compile(optimizer='adam', loss='mse', metrics='accuracy')\n",
    "model.summary()"
   ]
  },
  {
   "cell_type": "code",
   "execution_count": 13,
   "id": "61cc53cb",
   "metadata": {
    "scrolled": true
   },
   "outputs": [
    {
     "name": "stdout",
     "output_type": "stream",
     "text": [
      "Epoch 1/26\n",
      "438/438 [==============================] - 24s 34ms/step - loss: 0.0221 - accuracy: 0.4982 - val_loss: 0.0143 - val_accuracy: 0.5982\n",
      "Epoch 2/26\n",
      "438/438 [==============================] - 13s 29ms/step - loss: 0.0115 - accuracy: 0.6396 - val_loss: 0.0096 - val_accuracy: 0.6629\n",
      "Epoch 3/26\n",
      "438/438 [==============================] - 13s 29ms/step - loss: 0.0080 - accuracy: 0.6996 - val_loss: 0.0070 - val_accuracy: 0.7187\n",
      "Epoch 4/26\n",
      "438/438 [==============================] - 12s 29ms/step - loss: 0.0064 - accuracy: 0.7335 - val_loss: 0.0063 - val_accuracy: 0.7389\n",
      "Epoch 5/26\n",
      "438/438 [==============================] - 12s 28ms/step - loss: 0.0060 - accuracy: 0.7429 - val_loss: 0.0060 - val_accuracy: 0.7436\n",
      "Epoch 6/26\n",
      "438/438 [==============================] - 12s 28ms/step - loss: 0.0059 - accuracy: 0.7474 - val_loss: 0.0058 - val_accuracy: 0.7471\n",
      "Epoch 7/26\n",
      "438/438 [==============================] - 12s 28ms/step - loss: 0.0057 - accuracy: 0.7508 - val_loss: 0.0057 - val_accuracy: 0.7501\n",
      "Epoch 8/26\n",
      "438/438 [==============================] - 12s 28ms/step - loss: 0.0056 - accuracy: 0.7549 - val_loss: 0.0056 - val_accuracy: 0.7540\n",
      "Epoch 9/26\n",
      "438/438 [==============================] - 12s 28ms/step - loss: 0.0055 - accuracy: 0.7588 - val_loss: 0.0054 - val_accuracy: 0.7598\n",
      "Epoch 10/26\n",
      "438/438 [==============================] - 12s 28ms/step - loss: 0.0053 - accuracy: 0.7633 - val_loss: 0.0052 - val_accuracy: 0.7633\n",
      "Epoch 11/26\n",
      "438/438 [==============================] - 12s 28ms/step - loss: 0.0051 - accuracy: 0.7682 - val_loss: 0.0050 - val_accuracy: 0.7684\n",
      "Epoch 12/26\n",
      "438/438 [==============================] - 12s 28ms/step - loss: 0.0049 - accuracy: 0.7735 - val_loss: 0.0048 - val_accuracy: 0.7749\n",
      "Epoch 13/26\n",
      "438/438 [==============================] - 13s 29ms/step - loss: 0.0047 - accuracy: 0.7774 - val_loss: 0.0047 - val_accuracy: 0.7746\n",
      "Epoch 14/26\n",
      "438/438 [==============================] - 12s 29ms/step - loss: 0.0046 - accuracy: 0.7800 - val_loss: 0.0045 - val_accuracy: 0.7795\n",
      "Epoch 15/26\n",
      "438/438 [==============================] - 12s 28ms/step - loss: 0.0044 - accuracy: 0.7836 - val_loss: 0.0044 - val_accuracy: 0.7839\n",
      "Epoch 16/26\n",
      "438/438 [==============================] - 12s 29ms/step - loss: 0.0043 - accuracy: 0.7866 - val_loss: 0.0042 - val_accuracy: 0.7859\n",
      "Epoch 17/26\n",
      "438/438 [==============================] - 12s 28ms/step - loss: 0.0041 - accuracy: 0.7901 - val_loss: 0.0042 - val_accuracy: 0.7834\n",
      "Epoch 18/26\n",
      "438/438 [==============================] - 12s 28ms/step - loss: 0.0040 - accuracy: 0.7925 - val_loss: 0.0040 - val_accuracy: 0.7912\n",
      "Epoch 19/26\n",
      "438/438 [==============================] - 12s 28ms/step - loss: 0.0039 - accuracy: 0.7944 - val_loss: 0.0039 - val_accuracy: 0.7928\n",
      "Epoch 20/26\n",
      "438/438 [==============================] - 13s 29ms/step - loss: 0.0039 - accuracy: 0.7960 - val_loss: 0.0039 - val_accuracy: 0.7927\n",
      "Epoch 21/26\n",
      "438/438 [==============================] - 12s 28ms/step - loss: 0.0038 - accuracy: 0.7974 - val_loss: 0.0038 - val_accuracy: 0.7953\n",
      "Epoch 22/26\n",
      "438/438 [==============================] - 12s 28ms/step - loss: 0.0038 - accuracy: 0.7982 - val_loss: 0.0038 - val_accuracy: 0.7966\n",
      "Epoch 23/26\n",
      "438/438 [==============================] - 12s 28ms/step - loss: 0.0038 - accuracy: 0.7991 - val_loss: 0.0038 - val_accuracy: 0.7964\n",
      "Epoch 24/26\n",
      "438/438 [==============================] - 13s 29ms/step - loss: 0.0037 - accuracy: 0.8000 - val_loss: 0.0037 - val_accuracy: 0.7973\n",
      "Epoch 25/26\n",
      "438/438 [==============================] - 12s 28ms/step - loss: 0.0037 - accuracy: 0.7999 - val_loss: 0.0037 - val_accuracy: 0.7985\n",
      "Epoch 26/26\n",
      "438/438 [==============================] - 13s 29ms/step - loss: 0.0037 - accuracy: 0.8009 - val_loss: 0.0037 - val_accuracy: 0.7988\n"
     ]
    },
    {
     "data": {
      "text/plain": [
       "<tensorflow.python.keras.callbacks.History at 0x19660c6f910>"
      ]
     },
     "execution_count": 13,
     "metadata": {},
     "output_type": "execute_result"
    }
   ],
   "source": [
    "history = model.fit(np_state_list, np_state_list, epochs = 26, batch_size = 256,\n",
    "                    use_multiprocessing = True, validation_split=0.25)\n",
    "history"
   ]
  },
  {
   "cell_type": "code",
   "execution_count": 14,
   "id": "14dfc62c",
   "metadata": {
    "scrolled": false
   },
   "outputs": [
    {
     "name": "stdout",
     "output_type": "stream",
     "text": [
      "LSTM AUTOENCODER MODEL\n"
     ]
    },
    {
     "data": {
      "image/png": "[encoded data removed]",
      "text/plain": [
       "<Figure size 432x288 with 1 Axes>"
      ]
     },
     "metadata": {
      "needs_background": "light"
     },
     "output_type": "display_data"
    },
    {
     "data": {
      "image/png": "[encoded data removed]",
      "text/plain": [
       "<Figure size 432x288 with 1 Axes>"
      ]
     },
     "metadata": {
      "needs_background": "light"
     },
     "output_type": "display_data"
    }
   ],
   "source": [
    "print(\"LSTM AUTOENCODER MODEL\")\n",
    "# summarize history for accuracy\n",
    "plt.plot(history.history['accuracy'])\n",
    "plt.title('Model Accuracy')\n",
    "plt.ylabel('Accuracy')\n",
    "plt.xlabel('Epochs')\n",
    "plt.show()\n",
    "\n",
    "# summarize history for loss\n",
    "plt.plot(history.history['loss'])\n",
    "plt.title('Model Loss')\n",
    "plt.ylabel('Loss')\n",
    "plt.xlabel('Epochs')\n",
    "plt.show()"
   ]
  },
  {
   "cell_type": "code",
   "execution_count": 15,
   "id": "836fee73",
   "metadata": {},
   "outputs": [
    {
     "name": "stdout",
     "output_type": "stream",
     "text": [
      "LSTM AUTOENCODER MODEL\n"
     ]
    },
    {
     "data": {
      "image/png": "[encoded data removed]",
      "text/plain": [
       "<Figure size 432x288 with 1 Axes>"
      ]
     },
     "metadata": {
      "needs_background": "light"
     },
     "output_type": "display_data"
    },
    {
     "data": {
      "image/png": "[encoded data removed]",
      "text/plain": [
       "<Figure size 432x288 with 1 Axes>"
      ]
     },
     "metadata": {
      "needs_background": "light"
     },
     "output_type": "display_data"
    }
   ],
   "source": [
    "print(\"LSTM AUTOENCODER MODEL\")\n",
    "# summarize history for accuracy\n",
    "plt.plot(history.history['val_accuracy'])\n",
    "plt.title('Model Accuracy')\n",
    "plt.ylabel('Validation Accuracy')\n",
    "plt.xlabel('No. of Epochs')\n",
    "plt.show()\n",
    "\n",
    "# summarize history for loss\n",
    "plt.plot(history.history['val_loss'])\n",
    "plt.title('Model Loss')\n",
    "plt.ylabel('Validation Loss')\n",
    "plt.xlabel('No. of Epochs')\n",
    "plt.show()"
   ]
  },
  {
   "cell_type": "code",
   "execution_count": 16,
   "id": "fed29250",
   "metadata": {},
   "outputs": [
    {
     "name": "stdout",
     "output_type": "stream",
     "text": [
      "WARNING:tensorflow:Compiled the loaded model, but the compiled metrics have yet to be built. `model.compile_metrics` will be empty until you train or evaluate the model.\n"
     ]
    }
   ],
   "source": [
    "encoder = Model(inputs=model.inputs, outputs=model.layers[1].output)\n",
    "encoder.save('Data/pickle/session_state_encoder.h5')"
   ]
  }
 ],
 "metadata": {
  "kernelspec": {
   "display_name": "Python 3",
   "language": "python",
   "name": "python3"
  },
  "language_info": {
   "codemirror_mode": {
    "name": "ipython",
    "version": 3
   },
   "file_extension": ".py",
   "mimetype": "text/x-python",
   "name": "python",
   "nbconvert_exporter": "python",
   "pygments_lexer": "ipython3",
   "version": "3.8.8"
  }
 },
 "nbformat": 4,
 "nbformat_minor": 5
}
